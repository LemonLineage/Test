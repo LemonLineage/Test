{
 "cells": [
  {
   "cell_type": "code",
   "execution_count": 14,
   "id": "985d13a1-96da-48b3-90e7-cb91ccc6aa0e",
   "metadata": {},
   "outputs": [
    {
     "name": "stdout",
     "output_type": "stream",
     "text": [
      "      The result of the calculation was: \n",
      "                 149769\n"
     ]
    }
   ],
   "source": [
    "#Question 1\n",
    "num1 = 100\n",
    "num2 = 29\n",
    "numsum = (num1 + num2) * 3\n",
    "result = numsum ** 2\n",
    "print(\"      The result of the calculation was:\", \"\\n                \", result)"
   ]
  },
  {
   "cell_type": "code",
   "execution_count": 31,
   "id": "cb2c2adb-1a39-4ce0-a699-d1d4d72e170a",
   "metadata": {
    "scrolled": true
   },
   "outputs": [
    {
     "name": "stdin",
     "output_type": "stream",
     "text": [
      "Enter your name:  John\n",
      "Enter your birth year:  1995\n",
      "Enter your age:  26\n"
     ]
    },
    {
     "name": "stdout",
     "output_type": "stream",
     "text": [
      "Your password is: 95Joh676\n"
     ]
    }
   ],
   "source": [
    "#Question 2\n",
    "name = input(\"Enter your name: \")\n",
    "year = input(\"Enter your birth year: \")\n",
    "age = input(\"Enter your age: \")\n",
    "key1 = year[-2:]\n",
    "key2 = name[:3]\n",
    "key3 = int(age) ** 2\n",
    "password = key1 + key2 + str(key3)\n",
    "print(\"Your password is:\", password)"
   ]
  },
  {
   "cell_type": "code",
   "execution_count": 35,
   "id": "34273fee-9b10-4c32-a17c-e58ef54357f4",
   "metadata": {},
   "outputs": [
    {
     "name": "stdin",
     "output_type": "stream",
     "text": [
      "Enter the first number: 5\n",
      "Enter the second number: 6\n"
     ]
    },
    {
     "name": "stdout",
     "output_type": "stream",
     "text": [
      "One of the number is even.\n"
     ]
    }
   ],
   "source": [
    "#Question 3\n",
    "num1 = input(\"Enter the first number:\")\n",
    "num2 = input(\"Enter the second number:\")\n",
    "if int(num1) % 2 == 0 and int(num2) % 2 == 0:\n",
    "    print(\"Both numbers are even.\")\n",
    "elif int(num1) % 2 == 0 or int(num2) % 2 == 0:\n",
    "    print(\"One of the number is even.\")\n",
    "else: print(\"Both of the numbers are odd.\")"
   ]
  },
  {
   "cell_type": "code",
   "execution_count": 3,
   "id": "4f70123e-a55a-43a5-a89c-1e142d41d038",
   "metadata": {},
   "outputs": [
    {
     "name": "stdin",
     "output_type": "stream",
     "text": [
      "Give an integer: 5\n"
     ]
    },
    {
     "name": "stdout",
     "output_type": "stream",
     "text": [
      "The sum was: 10\n"
     ]
    }
   ],
   "source": [
    "#Question 4\n",
    "#I reset the kernel because I was using \"sum\" as a variable, making sum() not work.\n",
    "number = int(input(\"Give an integer:\"))\n",
    "total = sum(range(number))\n",
    "print(\"The sum was:\", total)"
   ]
  },
  {
   "cell_type": "code",
   "execution_count": 11,
   "id": "f4252e7d-9a02-4e28-8f2e-931b374d24d8",
   "metadata": {},
   "outputs": [
    {
     "name": "stdin",
     "output_type": "stream",
     "text": [
      "Player: 1\n"
     ]
    },
    {
     "name": "stdout",
     "output_type": "stream",
     "text": [
      "Try a greater number.\n"
     ]
    },
    {
     "name": "stdin",
     "output_type": "stream",
     "text": [
      "Player: 4\n"
     ]
    },
    {
     "name": "stdout",
     "output_type": "stream",
     "text": [
      "Try a greater number.\n"
     ]
    },
    {
     "name": "stdin",
     "output_type": "stream",
     "text": [
      "Player: 5\n"
     ]
    },
    {
     "name": "stdout",
     "output_type": "stream",
     "text": [
      "Try a greater number.\n"
     ]
    },
    {
     "name": "stdin",
     "output_type": "stream",
     "text": [
      "Player: 6\n"
     ]
    },
    {
     "name": "stdout",
     "output_type": "stream",
     "text": [
      "That's right! Number of tries: 4\n"
     ]
    }
   ],
   "source": [
    "#Question 5\n",
    "import random\n",
    "ans = (random.randint(1,10)) #ans is for answer\n",
    "tries = 1\n",
    "guess = 0\n",
    "while guess != ans:\n",
    "    guess = int(input(\"Player:\"))\n",
    "    if guess == ans:\n",
    "                print(\"That's right! Number of tries:\", tries)\n",
    "    elif guess > ans:\n",
    "                print(\"Try a smaller number.\")\n",
    "                tries += 1\n",
    "    else:\n",
    "        print(\"Try a greater number.\")\n",
    "        tries += 1"
   ]
  },
  {
   "cell_type": "code",
   "execution_count": 15,
   "id": "22036857-3411-4238-b195-02b9d54d5f29",
   "metadata": {},
   "outputs": [
    {
     "name": "stdin",
     "output_type": "stream",
     "text": [
      "Player 1: 6\n"
     ]
    },
    {
     "name": "stdout",
     "output_type": "stream",
     "text": [
      "Try a smaller number.\n"
     ]
    },
    {
     "name": "stdin",
     "output_type": "stream",
     "text": [
      "Player 1: 2\n"
     ]
    },
    {
     "name": "stdout",
     "output_type": "stream",
     "text": [
      "Try a greater number.\n"
     ]
    },
    {
     "name": "stdin",
     "output_type": "stream",
     "text": [
      "Player 1: 4\n"
     ]
    },
    {
     "name": "stdout",
     "output_type": "stream",
     "text": [
      "That's right! Number of tries: 3\n"
     ]
    },
    {
     "name": "stdin",
     "output_type": "stream",
     "text": [
      "Player 2: 1\n"
     ]
    },
    {
     "name": "stdout",
     "output_type": "stream",
     "text": [
      "Try a greater number.\n"
     ]
    },
    {
     "name": "stdin",
     "output_type": "stream",
     "text": [
      "Player 2: 6\n"
     ]
    },
    {
     "name": "stdout",
     "output_type": "stream",
     "text": [
      "Try a smaller number.\n"
     ]
    },
    {
     "name": "stdin",
     "output_type": "stream",
     "text": [
      "Player 2: 8\n"
     ]
    },
    {
     "name": "stdout",
     "output_type": "stream",
     "text": [
      "Try a smaller number.\n"
     ]
    },
    {
     "name": "stdin",
     "output_type": "stream",
     "text": [
      "Player 2: 2\n"
     ]
    },
    {
     "name": "stdout",
     "output_type": "stream",
     "text": [
      "Try a greater number.\n"
     ]
    },
    {
     "name": "stdin",
     "output_type": "stream",
     "text": [
      "Player 2: 4\n"
     ]
    },
    {
     "name": "stdout",
     "output_type": "stream",
     "text": [
      "That's right! Number of tries: 5\n",
      "The winner is Player 1\n"
     ]
    }
   ],
   "source": [
    "#Bonus Question\n",
    "import random\n",
    "ans = (random.randint(1,10)) #ans is for answer\n",
    "tries_p1 = 1\n",
    "guess_p1 = 0\n",
    "tries_p2 = 1\n",
    "guess_p2= 0\n",
    "while guess_p1 != ans:\n",
    "    guess_p1 = int(input(\"Player 1:\"))\n",
    "    if guess_p1 == ans:\n",
    "                print(\"That's right! Number of tries:\", tries_p1)\n",
    "    elif guess_p1 > ans:\n",
    "                print(\"Try a smaller number.\")\n",
    "                tries_p1 += 1\n",
    "    else:\n",
    "        print(\"Try a greater number.\")\n",
    "        tries_p1 += 1\n",
    "\n",
    "while guess_p2 != ans:\n",
    "    guess_p2 = int(input(\"Player 2:\"))\n",
    "    if guess_p2 == ans:\n",
    "                print(\"That's right! Number of tries:\", tries_p2)\n",
    "    elif guess_p2 > ans:\n",
    "                print(\"Try a smaller number.\")\n",
    "                tries_p2 += 1\n",
    "    else:\n",
    "        print(\"Try a greater number.\")\n",
    "        tries_p2 += 1\n",
    "if guess_p1 > guess_p2:\n",
    "    print(\"The winner is Player 2\")\n",
    "else:\n",
    "    print(\"The winner is Player 1\")"
   ]
  },
  {
   "cell_type": "code",
   "execution_count": null,
   "id": "a143db71-7669-4593-a0ab-3085143647c3",
   "metadata": {},
   "outputs": [],
   "source": []
  }
 ],
 "metadata": {
  "kernelspec": {
   "display_name": "Python 3 (ipykernel)",
   "language": "python",
   "name": "python3"
  },
  "language_info": {
   "codemirror_mode": {
    "name": "ipython",
    "version": 3
   },
   "file_extension": ".py",
   "mimetype": "text/x-python",
   "name": "python",
   "nbconvert_exporter": "python",
   "pygments_lexer": "ipython3",
   "version": "3.12.4"
  }
 },
 "nbformat": 4,
 "nbformat_minor": 5
}
