{
 "cells": [
  {
   "cell_type": "markdown",
   "id": "a8ba3faa-0d08-4381-9bdd-730b4eed443a",
   "metadata": {},
   "source": [
    "Assignment 1"
   ]
  },
  {
   "cell_type": "markdown",
   "id": "856e4bb9-177e-4bea-8ce3-dedc407959e9",
   "metadata": {},
   "source": [
    "04/09/2024"
   ]
  },
  {
   "cell_type": "markdown",
   "id": "8f191644-5457-437b-b3bf-a95589b6d0a1",
   "metadata": {},
   "source": [
    "### Teerachet Wongmakes"
   ]
  },
  {
   "cell_type": "markdown",
   "id": "c3f9edfe-56e2-42f7-a594-52389a25709e",
   "metadata": {},
   "source": [
    "- JavaScript\n",
    "- Python\n",
    "- HTML\n",
    "- C++\n",
    "- Css\n",
    "- Java\n",
    "- SQL"
   ]
  },
  {
   "cell_type": "markdown",
   "id": "071afc6d-67b1-47aa-8acd-2a6edb6bc989",
   "metadata": {},
   "source": [
    "| Intermediate Devices      | End Devices              | Media                     |\n",
    "|---------------------------|--------------------------|---------------------------|\n",
    "| Router                    | Computer                 | Ethernet Cable            |\n",
    "| Switch                    | Smartphone               | Bluetooth                 |\n",
    "| Hub                       | Tablet                   | Wifi                      |3   |   |   |"
   ]
  },
  {
   "cell_type": "code",
   "execution_count": 4,
   "id": "974042e1-635f-4090-bf88-67fc91a724de",
   "metadata": {},
   "outputs": [
    {
     "name": "stdout",
     "output_type": "stream",
     "text": [
      "Teerachet Wongmakes\n"
     ]
    }
   ],
   "source": [
    "print(\"Teerachet Wongmakes\")"
   ]
  },
  {
   "cell_type": "code",
   "execution_count": 5,
   "id": "0851bc1b-9eab-44fd-84a3-a63ca636867c",
   "metadata": {},
   "outputs": [
    {
     "name": "stdin",
     "output_type": "stream",
     "text": [
      "Write your name:  Teerachet\n"
     ]
    },
    {
     "name": "stdout",
     "output_type": "stream",
     "text": [
      "Hello Teerachet\n"
     ]
    }
   ],
   "source": [
    "name = input(\"Write your name: \")\n",
    "print(\"Hello\", name)"
   ]
  },
  {
   "cell_type": "code",
   "execution_count": 6,
   "id": "78833a76-f808-4fa2-b036-c526ce600407",
   "metadata": {},
   "outputs": [
    {
     "name": "stdin",
     "output_type": "stream",
     "text": [
      "First number:  2\n",
      "Second number:  4\n"
     ]
    },
    {
     "name": "stdout",
     "output_type": "stream",
     "text": [
      "The sum is: 6\n"
     ]
    }
   ],
   "source": [
    "num1 = int(input(\"First number: \"))\n",
    "num2 = int(input(\"Second number: \"))\n",
    "total = num1 + num2\n",
    "print(\"The sum is:\", total)"
   ]
  },
  {
   "cell_type": "code",
   "execution_count": null,
   "id": "3ab26df7-19e5-4d67-9784-de1a8aa33cc1",
   "metadata": {},
   "outputs": [],
   "source": []
  }
 ],
 "metadata": {
  "kernelspec": {
   "display_name": "Python 3 (ipykernel)",
   "language": "python",
   "name": "python3"
  },
  "language_info": {
   "codemirror_mode": {
    "name": "ipython",
    "version": 3
   },
   "file_extension": ".py",
   "mimetype": "text/x-python",
   "name": "python",
   "nbconvert_exporter": "python",
   "pygments_lexer": "ipython3",
   "version": "3.12.4"
  }
 },
 "nbformat": 4,
 "nbformat_minor": 5
}
